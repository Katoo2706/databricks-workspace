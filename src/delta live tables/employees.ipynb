{
 "cells": [
  {
   "cell_type": "code",
   "execution_count": 0,
   "metadata": {
    "application/vnd.databricks.v1+cell": {
     "cellMetadata": {
      "byteLimit": 2048000,
      "implicitDf": true,
      "rowLimit": 10000
     },
     "inputWidgets": {},
     "nuid": "ac00dc35-ff0d-49df-bf2f-c0e344a733e8",
     "showTitle": false,
     "tableResultSettingsMap": {},
     "title": ""
    }
   },
   "outputs": [],
   "source": [
    "%sql\n",
    "\n",
    "CREATE TABLE default.employees (\n",
    "  id INT,\n",
    "  name STRING,\n",
    "  salary DOUBLE\n",
    ");"
   ]
  },
  {
   "cell_type": "code",
   "execution_count": 0,
   "metadata": {
    "application/vnd.databricks.v1+cell": {
     "cellMetadata": {
      "byteLimit": 2048000,
      "implicitDf": true,
      "rowLimit": 10000
     },
     "inputWidgets": {},
     "nuid": "77c6276d-c251-428a-91dd-dd36528e2b18",
     "showTitle": false,
     "tableResultSettingsMap": {},
     "title": ""
    }
   },
   "outputs": [],
   "source": [
    "%sql\n",
    "INSERT INTO employees\n",
    "VALUES \n",
    "  (1, \"Adam\", 3500.0),\n",
    "  (2, \"Sarah\", 4020.5);\n",
    "\n",
    "INSERT INTO employees\n",
    "VALUES\n",
    "  (3, \"John\", 2999.3),\n",
    "  (4, \"Thomas\", 4000.3);\n",
    "\n",
    "INSERT INTO employees\n",
    "VALUES\n",
    "  (5, \"Anna\", 2500.0);\n",
    "\n",
    "INSERT INTO employees\n",
    "VALUES\n",
    "  (6, \"Kim\", 6200.3)"
   ]
  },
  {
   "cell_type": "code",
   "execution_count": 0,
   "metadata": {
    "application/vnd.databricks.v1+cell": {
     "cellMetadata": {
      "byteLimit": 2048000,
      "implicitDf": true,
      "rowLimit": 10000
     },
     "inputWidgets": {},
     "nuid": "9dd40530-2e58-4fdb-834a-f187ea5464df",
     "showTitle": false,
     "tableResultSettingsMap": {},
     "title": ""
    }
   },
   "outputs": [],
   "source": [
    "%sql\n",
    "\n",
    "USE DATABASE default;\n",
    "\n",
    "-- DESCRIBE TABLE employees;\n",
    "DESCRIBE EXTENDED employees;  \n",
    "-- DESCRIBE DETAIL employees; -- show the file location\n",
    "\n",
    "\n",
    "-- %fs ls 'dbfs:/user/hive/warehouse/employees'"
   ]
  },
  {
   "cell_type": "code",
   "execution_count": 0,
   "metadata": {
    "application/vnd.databricks.v1+cell": {
     "cellMetadata": {
      "byteLimit": 2048000,
      "implicitDf": true,
      "rowLimit": 10000
     },
     "inputWidgets": {},
     "nuid": "db7fc41b-7494-47c2-aa99-5bca2e59b074",
     "showTitle": false,
     "tableResultSettingsMap": {},
     "title": ""
    }
   },
   "outputs": [],
   "source": [
    "%sql\n",
    "\n",
    "DESCRIBE HISTORY default.employees;\n",
    "\n",
    "OPTIMIZE default.employees;\n",
    "\n",
    "-- Optimize with Z-Ordering (for Fast Queries)\n",
    "-- If you frequently query based on specific columns (e.g., id or salary), you can Z-order the table on those columns to make searches more efficient:\n",
    "OPTIMIZE default.employees ZORDER BY (id);\n",
    "\n",
    "-- Delta Lake keeps track of deleted or updated data for a certain period (by default 7 days) to ensure proper time travel. You can remove this data (to reclaim storage) using VACUUM.\n",
    "VACUUM default.employees RETAIN 168 HOURS;\n"
   ]
  }
 ],
 "metadata": {
  "application/vnd.databricks.v1+notebook": {
   "computePreferences": null,
   "dashboards": [],
   "environmentMetadata": {
    "base_environment": "",
    "environment_version": "2"
   },
   "inputWidgetPreferences": null,
   "language": "python",
   "notebookMetadata": {
    "mostRecentlyExecutedCommandWithImplicitDF": {
     "commandId": 5665556187540542,
     "dataframes": [
      "_sqldf"
     ]
    },
    "pythonIndentUnit": 4
   },
   "notebookName": "employees",
   "widgets": {}
  },
  "language_info": {
   "name": "python"
  }
 },
 "nbformat": 4,
 "nbformat_minor": 0
}
