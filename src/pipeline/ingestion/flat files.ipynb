{
 "cells": [
  {
   "cell_type": "code",
   "execution_count": 0,
   "metadata": {
    "application/vnd.databricks.v1+cell": {
     "cellMetadata": {
      "byteLimit": 2048000,
      "rowLimit": 10000
     },
     "inputWidgets": {},
     "nuid": "d8b7f60a-e806-43de-9913-5dba7eaafd30",
     "showTitle": false,
     "tableResultSettingsMap": {},
     "title": ""
    }
   },
   "outputs": [],
   "source": [
    "dbutils.fs.ls('/databricks-datasets')"
   ]
  },
  {
   "cell_type": "code",
   "execution_count": 0,
   "metadata": {
    "application/vnd.databricks.v1+cell": {
     "cellMetadata": {
      "byteLimit": 2048000,
      "rowLimit": 10000
     },
     "inputWidgets": {},
     "nuid": "11a88184-56cd-472e-b5eb-f30a653e2e55",
     "showTitle": false,
     "tableResultSettingsMap": {},
     "title": ""
    }
   },
   "outputs": [],
   "source": [
    "%python\n",
    "# List files in iot directory (JSON)\n",
    "display(dbutils.fs.ls(\"dbfs:/databricks-datasets/iot/\"))\n",
    "\n",
    "# List files in wine-quality directory (CSV)\n",
    "display(dbutils.fs.ls(\"dbfs:/databricks-datasets/wine-quality/\"))"
   ]
  },
  {
   "cell_type": "code",
   "execution_count": 0,
   "metadata": {
    "application/vnd.databricks.v1+cell": {
     "cellMetadata": {
      "byteLimit": 2048000,
      "implicitDf": true,
      "rowLimit": 10000
     },
     "inputWidgets": {},
     "nuid": "05c98624-0b8d-4550-bd6e-782ad3a0e35b",
     "showTitle": false,
     "tableResultSettingsMap": {},
     "title": ""
    }
   },
   "outputs": [],
   "source": [
    "%sql\n",
    "\n",
    "SELECT * FROM json.`dbfs:/databricks-datasets/iot/iot_devices.json`\n",
    "LIMIT 10;\n",
    "\n",
    "-- Use multilines = true if the JSON is multi-line."
   ]
  },
  {
   "cell_type": "code",
   "execution_count": 0,
   "metadata": {
    "application/vnd.databricks.v1+cell": {
     "cellMetadata": {
      "byteLimit": 2048000,
      "rowLimit": 10000
     },
     "inputWidgets": {},
     "nuid": "d0798606-ede3-4bc5-b0a0-6295b881ab28",
     "showTitle": false,
     "tableResultSettingsMap": {},
     "title": ""
    }
   },
   "outputs": [],
   "source": [
    "%python\n",
    "\n",
    "IOT_FILE = \"dbfs:/databricks-datasets/iot/iot_devices.json\"\n",
    "\n",
    "IOT_FILE_PATH = \"dbfs:/databricks-datasets/iot/\"\n",
    "\n",
    "dbutils.widgets.text(\"iot_file_path\", IOT_FILE_PATH, \"IoT File Path\")"
   ]
  },
  {
   "cell_type": "code",
   "execution_count": 0,
   "metadata": {
    "application/vnd.databricks.v1+cell": {
     "cellMetadata": {
      "byteLimit": 2048000,
      "implicitDf": true,
      "rowLimit": 10000
     },
     "inputWidgets": {},
     "nuid": "d381f35a-d931-486b-a9f7-a3d45f8364e8",
     "showTitle": false,
     "tableResultSettingsMap": {},
     "title": ""
    }
   },
   "outputs": [],
   "source": [
    "%sql\n",
    "\n",
    "-- Create a Delta table in the default catalog\n",
    "-- Unity Catalog Restrictions: Unity Catalog manages table metadata centrally and requires storage to be associated with governed external locations (e.g., cloud storage like Azure Data Lake Storage, AWS S3, or Google Cloud Storage) or managed locations. The dbfs:/ scheme is not supported for table storage in Unity Catalog because it’s tied to the Databricks File System (DBFS), which is not fully governed.\n",
    "-- If you don’t specify a LOCATION for a Delta table in Unity Catalog, the data is stored in a managed location controlled by Unity Catalog\n",
    "\n",
    "CREATE TABLE IF NOT EXISTS default.iot_data\n",
    "USING DELTA\n",
    "-- LOCATION 'dbfs:/user/iot_data_delta'\n",
    "AS\n",
    "SELECT * FROM json.`${iot_file_path}/iot_devices.json`\n",
    "LIMIT 10;"
   ]
  },
  {
   "cell_type": "code",
   "execution_count": 0,
   "metadata": {
    "application/vnd.databricks.v1+cell": {
     "cellMetadata": {},
     "inputWidgets": {},
     "nuid": "cc91b84b-b73c-4195-a0d1-be30dd71a7f7",
     "showTitle": false,
     "tableResultSettingsMap": {},
     "title": ""
    }
   },
   "outputs": [],
   "source": [
    "%sql\n",
    "\n",
    "CREATE OR REPLACE TEMP VIEW iot_data_update AS \n",
    "SELECT * FROM json.`:iot_file_path/iot_devices.json`\n",
    "LIMIT 100;\n",
    "\n",
    "-- -- Merge\n",
    "-- MERGE INTO default.iot_data AS target\n",
    "-- USING iot_data_update AS source\n",
    "-- ON target.device_id = source.device_id\n",
    "-- WHEN MATCHED AND target.device_name IS NOT NULL THEN\n",
    "--   UPDATE SET\n",
    "--     target.device_name = source.device_name,\n",
    "--     target.humidity = source.humidity\n",
    "-- WHEN NOT MATCHED THEN INSERT *\n",
    "-- ;\n",
    "\n",
    "-- Merge\n",
    "MERGE INTO default.iot_data AS target\n",
    "USING iot_data_update AS source\n",
    "ON target.device_id = source.device_id\n",
    "WHEN MATCHED AND target.device_name IS NOT NULL THEN\n",
    "  UPDATE SET *\n",
    "WHEN NOT MATCHED THEN INSERT *\n",
    ";\n",
    "\n",
    "\n",
    "  -- INSERT (\n",
    "  --   device_id,\n",
    "  --   timestamp,\n",
    "  --   value\n",
    "  -- )\n",
    "  -- VALUES (\n",
    "  --   source.device_id,\n",
    "  --   source.timestamp,\n",
    "  --   source.value\n",
    "  -- );"
   ]
  }
 ],
 "metadata": {
  "application/vnd.databricks.v1+notebook": {
   "computePreferences": null,
   "dashboards": [],
   "environmentMetadata": {
    "base_environment": "",
    "environment_version": "2"
   },
   "inputWidgetPreferences": null,
   "language": "python",
   "notebookMetadata": {
    "mostRecentlyExecutedCommandWithImplicitDF": {
     "commandId": 6041560306974014,
     "dataframes": [
      "_sqldf"
     ]
    },
    "pythonIndentUnit": 4
   },
   "notebookName": "flat files",
   "widgets": {
    "iot_file_path": {
     "currentValue": "dbfs:/databricks-datasets/iot",
     "nuid": "67455bba-8361-4817-a27d-65eca6ad5652",
     "typedWidgetInfo": {
      "autoCreated": false,
      "defaultValue": "dbfs:/databricks-datasets/iot/",
      "label": "IoT File Path",
      "name": "iot_file_path",
      "options": {
       "widgetDisplayType": "Text",
       "validationRegex": null
      },
      "parameterDataType": "String"
     },
     "widgetInfo": {
      "widgetType": "text",
      "defaultValue": "dbfs:/databricks-datasets/iot/",
      "label": "IoT File Path",
      "name": "iot_file_path",
      "options": {
       "widgetType": "text",
       "autoCreated": false,
       "validationRegex": null
      }
     }
    }
   }
  },
  "language_info": {
   "name": "python"
  }
 },
 "nbformat": 4,
 "nbformat_minor": 0
}
